{
 "cells": [
  {
   "cell_type": "markdown",
   "metadata": {},
   "source": [
    "# Matplotlib\n",
    "There are three layers:\n",
    "1. Scripting Layer: matplotlib.pyplot\n",
    "2. Artist Layer: matplotlib.artist\n",
    "3. Backend Layer: matplotlib.backend_bases"
   ]
  },
  {
   "cell_type": "markdown",
   "metadata": {},
   "source": []
  }
 ],
 "metadata": {
  "language_info": {
   "name": "python"
  }
 },
 "nbformat": 4,
 "nbformat_minor": 2
}
